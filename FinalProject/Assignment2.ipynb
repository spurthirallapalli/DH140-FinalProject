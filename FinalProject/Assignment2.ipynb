{
 "cells": [
  {
   "cell_type": "markdown",
   "id": "6c6b1705-f188-4146-9ca1-4a68bfd3c3cd",
   "metadata": {},
   "source": [
    "## Research question\n",
    "Our research question is “How does a song’s popularity spread over countries over time, and how much of that is attributed to the lyrics / word patterns in that song?”\n",
    "\n",
    "## Why it is important to you, why it matters to others, and what is at stake\n",
    "Music is something that everyone connects to, and our group wants to find a way to measure how and why music is spread across the world. It’s a way for musicians to figure out which kind of music allows them to connect with different audiences and cross cultural and linguistic barriers. It’s also a way for us as listeners to help determine what connects us to certain kinds of music, what word frequencies and thematic patterns matter most to us, and what cultural practices and norms cause certain groups to listen (or not to listen) to certain types of music. Essentially, it’s a way to determine what connects us all!\n",
    "\n",
    "## A preliminary but definitive description of data sources that you will use\n",
    "The first data source is from Spotify Charts. Spotify Charts is a website from the popular music streaming app, Spotify. Spofity constantly keeps ranking of how often songs are streamed from their uses, and keeps track of which songs are streamed the most. Spotify also separates these streaming counts by country. The top 200 songs of each day or week and their total streams are available to download in csv format from Spotify Charts. The data can be found at https://spotifycharts.com/. \n",
    "\n",
    "The second data source will be song lyrics. These can be found on genius.com, and we will be copying and pasting the text lyrics from those websites to perform text analysis. https://genius.com/\n",
    "\n",
    "## Scope\n",
    "For our project, we plan on having line charts charting a songs popularity by country over time (by plotting number of streams vs time). We plan on looking at multiple countries in comparison, so our hope is to have many countries together on the same chart. \n",
    "\n",
    "We also plan on seeing if there are geographical relations between songs popularity in certain countries, so something such as a map with the song's number of streams overlaid over the country, and each chart representing a different period in time would be interesting too. \n",
    "\n",
    "Lastly, we plan on doing text analysis on the lyrics versus the popularity in a certain country, so we may have frequency charts of words found in the song, as well as potentially some graphic showing sentiment analysis for the song lyric text. \n",
    "\n",
    "## Conclusion\n",
    "Overall, by utilizing the data sources provided by Spotify Charts and Genius to create easy to read visualizations, we hope to find patterns in song popularity across different countries and look into whether certain lyrics are correlated with popularity within the top few songs. We also hope to find out how streaming of certain songs compare across different countries and whether or not the same songs trend at the same rate. \n"
   ]
  },
  {
   "cell_type": "code",
   "execution_count": 45,
   "id": "e6bdc327-9834-4961-8a2a-7dc121b0fa98",
   "metadata": {},
   "outputs": [],
   "source": [
    "import pandas as pd\n",
    "import os\n",
    "import glob\n",
    "import datetime\n",
    "\n",
    "path = os.getcwd()\n",
    "path = os.path.join(path, \"Data\", \"*.csv\")\n",
    "csv_files = glob.glob(path)\n",
    "# loop over the list of csv files\n",
    "weekly_global_charts = pd.DataFrame()\n",
    "\n",
    "for f in csv_files:\n",
    "    \n",
    "    filename = os.path.basename(f)\n",
    "    # read the csv file\n",
    "    df = pd.read_csv(f)\n",
    "      \n",
    "\n",
    "    date_time_obj = datetime.datetime.strptime(filename[23:-4], '%Y-%m-%d')\n",
    "\n",
    "    df[\"date\"] = date_time_obj\n",
    "    \n",
    "    weekly_global_charts= weekly_global_charts.append(df)\n"
   ]
  },
  {
   "cell_type": "code",
   "execution_count": 47,
   "id": "64d15eb0-9126-4757-8980-8f31ef66b07d",
   "metadata": {},
   "outputs": [
    {
     "data": {
      "text/plain": [
       "2600"
      ]
     },
     "execution_count": 47,
     "metadata": {},
     "output_type": "execute_result"
    }
   ],
   "source": [
    "weekly_global_charts.head()\n",
    "len(weekly_global_charts)"
   ]
  },
  {
   "cell_type": "code",
   "execution_count": 51,
   "id": "ac2b6255-b07c-4996-9714-6f81c33b182f",
   "metadata": {},
   "outputs": [
    {
     "data": {
      "text/html": [
       "<div>\n",
       "<style scoped>\n",
       "    .dataframe tbody tr th:only-of-type {\n",
       "        vertical-align: middle;\n",
       "    }\n",
       "\n",
       "    .dataframe tbody tr th {\n",
       "        vertical-align: top;\n",
       "    }\n",
       "\n",
       "    .dataframe thead th {\n",
       "        text-align: right;\n",
       "    }\n",
       "</style>\n",
       "<table border=\"1\" class=\"dataframe\">\n",
       "  <thead>\n",
       "    <tr style=\"text-align: right;\">\n",
       "      <th></th>\n",
       "      <th>rank</th>\n",
       "      <th>uri</th>\n",
       "      <th>artist_names</th>\n",
       "      <th>track_name</th>\n",
       "      <th>source</th>\n",
       "      <th>peak_rank</th>\n",
       "      <th>previous_rank</th>\n",
       "      <th>weeks_on_chart</th>\n",
       "      <th>streams</th>\n",
       "      <th>date</th>\n",
       "    </tr>\n",
       "  </thead>\n",
       "  <tbody>\n",
       "    <tr>\n",
       "      <th>2</th>\n",
       "      <td>3</td>\n",
       "      <td>spotify:track:02MWAaffLxlfxAUY7c5dvx</td>\n",
       "      <td>Glass Animals</td>\n",
       "      <td>Heat Waves</td>\n",
       "      <td>Polydor Records</td>\n",
       "      <td>3</td>\n",
       "      <td>10</td>\n",
       "      <td>54</td>\n",
       "      <td>28387947</td>\n",
       "      <td>2022-01-06</td>\n",
       "    </tr>\n",
       "    <tr>\n",
       "      <th>0</th>\n",
       "      <td>1</td>\n",
       "      <td>spotify:track:02MWAaffLxlfxAUY7c5dvx</td>\n",
       "      <td>Glass Animals</td>\n",
       "      <td>Heat Waves</td>\n",
       "      <td>Polydor Records</td>\n",
       "      <td>1</td>\n",
       "      <td>2</td>\n",
       "      <td>57</td>\n",
       "      <td>30110762</td>\n",
       "      <td>2022-01-27</td>\n",
       "    </tr>\n",
       "    <tr>\n",
       "      <th>1</th>\n",
       "      <td>2</td>\n",
       "      <td>spotify:track:02MWAaffLxlfxAUY7c5dvx</td>\n",
       "      <td>Glass Animals</td>\n",
       "      <td>Heat Waves</td>\n",
       "      <td>Polydor Records</td>\n",
       "      <td>2</td>\n",
       "      <td>4</td>\n",
       "      <td>56</td>\n",
       "      <td>29386724</td>\n",
       "      <td>2022-01-20</td>\n",
       "    </tr>\n",
       "    <tr>\n",
       "      <th>6</th>\n",
       "      <td>7</td>\n",
       "      <td>spotify:track:02MWAaffLxlfxAUY7c5dvx</td>\n",
       "      <td>Glass Animals</td>\n",
       "      <td>Heat Waves</td>\n",
       "      <td>Polydor Records</td>\n",
       "      <td>3</td>\n",
       "      <td>6</td>\n",
       "      <td>51</td>\n",
       "      <td>26030908</td>\n",
       "      <td>2021-12-16</td>\n",
       "    </tr>\n",
       "    <tr>\n",
       "      <th>0</th>\n",
       "      <td>1</td>\n",
       "      <td>spotify:track:02MWAaffLxlfxAUY7c5dvx</td>\n",
       "      <td>Glass Animals</td>\n",
       "      <td>Heat Waves</td>\n",
       "      <td>Polydor Records</td>\n",
       "      <td>1</td>\n",
       "      <td>1</td>\n",
       "      <td>59</td>\n",
       "      <td>31668100</td>\n",
       "      <td>2022-02-10</td>\n",
       "    </tr>\n",
       "  </tbody>\n",
       "</table>\n",
       "</div>"
      ],
      "text/plain": [
       "   rank                                   uri   artist_names  track_name  \\\n",
       "2     3  spotify:track:02MWAaffLxlfxAUY7c5dvx  Glass Animals  Heat Waves   \n",
       "0     1  spotify:track:02MWAaffLxlfxAUY7c5dvx  Glass Animals  Heat Waves   \n",
       "1     2  spotify:track:02MWAaffLxlfxAUY7c5dvx  Glass Animals  Heat Waves   \n",
       "6     7  spotify:track:02MWAaffLxlfxAUY7c5dvx  Glass Animals  Heat Waves   \n",
       "0     1  spotify:track:02MWAaffLxlfxAUY7c5dvx  Glass Animals  Heat Waves   \n",
       "\n",
       "            source  peak_rank  previous_rank  weeks_on_chart   streams  \\\n",
       "2  Polydor Records          3             10              54  28387947   \n",
       "0  Polydor Records          1              2              57  30110762   \n",
       "1  Polydor Records          2              4              56  29386724   \n",
       "6  Polydor Records          3              6              51  26030908   \n",
       "0  Polydor Records          1              1              59  31668100   \n",
       "\n",
       "        date  \n",
       "2 2022-01-06  \n",
       "0 2022-01-27  \n",
       "1 2022-01-20  \n",
       "6 2021-12-16  \n",
       "0 2022-02-10  "
      ]
     },
     "execution_count": 51,
     "metadata": {},
     "output_type": "execute_result"
    }
   ],
   "source": [
    "heat_waves = weekly_global_charts.loc[lambda df: df[\"track_name\"] == \"Heat Waves\"]\n",
    "heat_waves.head()\n"
   ]
  },
  {
   "cell_type": "code",
   "execution_count": 52,
   "id": "f3b842f6-6571-49c5-8100-a2c60fe79afd",
   "metadata": {},
   "outputs": [
    {
     "data": {
      "image/png": "[encoded data removed]",
      "text/plain": [
       "<Figure size 432x288 with 1 Axes>"
      ]
     },
     "metadata": {
      "needs_background": "light"
     },
     "output_type": "display_data"
    }
   ],
   "source": [
    "heat_waves.plot(x='date', y='rank').invert_yaxis()"
   ]
  },
  {
   "cell_type": "code",
   "execution_count": null,
   "id": "6db460de-3735-46b7-a80c-1a0a4d7bd2d7",
   "metadata": {},
   "outputs": [],
   "source": []
  }
 ],
 "metadata": {
  "kernelspec": {
   "display_name": "Python 3 (ipykernel)",
   "language": "python",
   "name": "python3"
  },
  "language_info": {
   "codemirror_mode": {
    "name": "ipython",
    "version": 3
   },
   "file_extension": ".py",
   "mimetype": "text/x-python",
   "name": "python",
   "nbconvert_exporter": "python",
   "pygments_lexer": "ipython3",
   "version": "3.9.6"
  }
 },
 "nbformat": 4,
 "nbformat_minor": 5
}
