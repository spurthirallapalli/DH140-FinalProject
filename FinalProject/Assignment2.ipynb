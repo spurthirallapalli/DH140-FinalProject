{
 "cells": [
  {
   "cell_type": "markdown",
   "id": "6c6b1705-f188-4146-9ca1-4a68bfd3c3cd",
   "metadata": {},
   "source": [
    "## Research question\n",
    "Our research question is “How does a song’s popularity spread over countries over time, and how much of that is attributed to the lyrics / word patterns in that song?”\n",
    "\n",
    "## Why it is important to you, why it matters to others, and what is at stake\n",
    "Music is something that everyone connects to, and our group wants to find a way to measure how and why music is spread across the world. It’s a way for musicians to figure out which kind of music allows them to connect with different audiences and cross cultural and linguistic barriers. It’s also a way for us as listeners to help determine what connects us to certain kinds of music, what word frequencies and thematic patterns matter most to us, and what cultural practices and norms cause certain groups to listen (or not to listen) to certain types of music. Essentially, it’s a way to determine what connects us all!\n",
    "\n",
    "## A preliminary but definitive description of data sources that you will use\n",
    "The first data source is from Spotify Charts. Spotify Charts is a website from the popular music streaming app, Spotify. Spofity constantly keeps ranking of how often songs are streamed from their uses, and keeps track of which songs are streamed the most. Spotify also separates these streaming counts by country. The top 200 songs of each day or week and their total streams are available to download in csv format from Spotify Charts. The data can be found at https://spotifycharts.com/. \n",
    "\n",
    "The second data source will be song lyrics. These can be found on genius.com, and we will be copying and pasting the text lyrics from those websites to perform text analysis. https://genius.com/\n",
    "\n",
    "## Scope\n",
    "For our project, we plan on having line charts charting a songs popularity by country over time (by plotting number of streams vs time). We plan on looking at multiple countries in comparison, so our hope is to have many countries together on the same chart. \n",
    "\n",
    "We also plan on seeing if there are geographical relations between songs popularity in certain countries, so something such as a map with the song's number of streams overlaid over the country, and each chart representing a different period in time would be interesting too. \n",
    "\n",
    "Lastly, we plan on doing text analysis on the lyrics versus the popularity in a certain country, so we may have frequency charts of words found in the song, as well as potentially some graphic showing sentiment analysis for the song lyric text. \n",
    "\n",
    "## Conclusion\n",
    "Overall, by utilizing the data sources provided by Spotify Charts and Genius to create easy to read visualizations, we hope to find patterns in song popularity across different countries and look into whether certain lyrics are correlated with popularity within the top few songs. We also hope to find out how streaming of certain songs compare across different countries and whether or not the same songs trend at the same rate. \n"
   ]
  },
  {
   "cell_type": "code",
   "execution_count": 25,
   "id": "e6bdc327-9834-4961-8a2a-7dc121b0fa98",
   "metadata": {},
   "outputs": [],
   "source": [
    "import pandas as pd\n",
    "import os\n",
    "import glob\n",
    "import datetime\n",
    "\n",
    "path = os.getcwd()\n",
    "path = os.path.join(path, \"Data\", \"*.csv\")\n",
    "csv_files = glob.glob(path)\n",
    "# loop over the list of csv files\n",
    "weekly_global_charts = pd.DataFrame()\n",
    "\n",
    "for f in csv_files:\n",
    "    \n",
    "    filename = os.path.basename(f)\n",
    "    # read the csv file\n",
    "    df = pd.read_csv(f)\n",
    "      \n",
    "\n",
    "    date_time_obj = datetime.datetime.strptime(filename[23:-4], '%Y-%m-%d')\n",
    "\n",
    "    df[\"date\"] = date_time_obj\n",
    "    \n",
    "    weekly_global_charts= weekly_global_charts.append(df)\n"
   ]
  },
  {
   "cell_type": "code",
   "execution_count": null,
   "id": "64d15eb0-9126-4757-8980-8f31ef66b07d",
   "metadata": {},
   "outputs": [],
   "source": []
  }
 ],
 "metadata": {
  "kernelspec": {
   "display_name": "Python 3 (ipykernel)",
   "language": "python",
   "name": "python3"
  },
  "language_info": {
   "codemirror_mode": {
    "name": "ipython",
    "version": 3
   },
   "file_extension": ".py",
   "mimetype": "text/x-python",
   "name": "python",
   "nbconvert_exporter": "python",
   "pygments_lexer": "ipython3",
   "version": "3.9.6"
  }
 },
 "nbformat": 4,
 "nbformat_minor": 5
}
