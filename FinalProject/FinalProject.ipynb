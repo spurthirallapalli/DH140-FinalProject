{
 "cells": [
  {
   "cell_type": "markdown",
   "id": "a6e7d255-345f-488b-bd6a-429dafee0678",
   "metadata": {},
   "source": [
    "# DH 140 Final Project W22"
   ]
  },
  {
   "cell_type": "markdown",
   "id": "d03eac8b-4582-4951-b084-017c3b25b6fa",
   "metadata": {},
   "source": [
    "Spurthi Rallapalli, Cindy Zheng, Carol Cheng\n",
    "3/11/22"
   ]
  },
  {
   "cell_type": "markdown",
   "id": "4b5cd714-8652-4efc-b6dd-abded20fa34e",
   "metadata": {},
   "source": [
    "## Research Topic Introduction"
   ]
  },
  {
   "cell_type": "markdown",
   "id": "9197222a-421a-4635-b617-a645cbbb155d",
   "metadata": {},
   "source": [
    "**Research Question:** Our research question is “How does a song’s popularity spread over countries over time, and how much of that is attributed to the lyrics / word patterns in that song?”"
   ]
  },
  {
   "cell_type": "markdown",
   "id": "e8c2a3f3-e1ad-4849-ab9c-e0a33d8b50fd",
   "metadata": {},
   "source": [
    "**Why it is important to you, why it matters to others, and what is at stake:** Music is something that everyone connects to, and our group wants to find a way to measure how and why music is spread across the world. It’s a way for musicians to figure out which kind of music allows them to connect with different audiences and cross cultural and linguistic barriers. It’s also a way for us as listeners to help determine what connects us to certain kinds of music, what word frequencies and thematic patterns matter most to us, and what cultural practices and norms cause certain groups to listen (or not to listen) to certain types of music. Essentially, it’s a way to determine what connects us all!"
   ]
  },
  {
   "cell_type": "markdown",
   "id": "2e1cfed3-1e01-40c5-919b-7d1437d77e3f",
   "metadata": {},
   "source": [
    "**Description of data sources used:**\n",
    "The first data source is from Spotify Charts. Spotify Charts is a website from the popular music streaming app, Spotify. Spofity constantly keeps ranking of how often songs are streamed from their uses, and keeps track of which songs are streamed the most. Spotify also separates these streaming counts by country. The top 200 songs of each day or week and their total streams are available to download in csv format from Spotify Charts. The data can be found at https://spotifycharts.com/. \n",
    "\n",
    "The second data source will be song lyrics. These can be found on genius.com, and we will be copying and pasting the text lyrics from those websites to perform text analysis. https://genius.com/"
   ]
  },
  {
   "cell_type": "markdown",
   "id": "8a3338e1-7d25-4500-b913-c83e3705e8a4",
   "metadata": {},
   "source": [
    "## Methods"
   ]
  },
  {
   "cell_type": "markdown",
   "id": "5c11b307-5066-48c7-bdb8-dfaf758cec80",
   "metadata": {},
   "source": [
    "Below is the code that we used to import the data into our Jupyter Notebook. We went to Spotify Charts to look at Top 200 Hits Data for 13 dates (in the United States and insert another country): \n",
    "1. 2021-12-02\n",
    "2. 2021-12-09\n",
    "3. 2021-12-16\n",
    "4. 2021-12-23\n",
    "5. 2021-12-30\n",
    "6. 2022-01-06\n",
    "7. 2022-01-13\n",
    "8. 2022-01-20\n",
    "9. 2022-01-27\n",
    "10. 2022-02-03\n",
    "11. 2022-02-10\n",
    "12. 2022-02-17\n",
    "13. 2022-02-24       "
   ]
  },
  {
   "cell_type": "code",
   "execution_count": 2,
   "id": "abd1fc8f-0a09-46ef-b2fe-9ec13b595573",
   "metadata": {},
   "outputs": [],
   "source": [
    "import pandas as pd\n",
    "import os\n",
    "import glob\n",
    "import datetime\n",
    "\n",
    "path = os.getcwd()\n",
    "path = os.path.join(path, \"Data\", \"*.csv\")\n",
    "csv_files = glob.glob(path)\n",
    "# loop over the list of csv files\n",
    "weekly_global_charts = pd.DataFrame()\n",
    "\n",
    "for f in csv_files:\n",
    "    \n",
    "    filename = os.path.basename(f)\n",
    "    # read the csv file\n",
    "    df = pd.read_csv(f)\n",
    "      \n",
    "\n",
    "    date_time_obj = datetime.datetime.strptime(filename[23:-4], '%Y-%m-%d')\n",
    "\n",
    "    df[\"date\"] = date_time_obj\n",
    "    \n",
    "    weekly_global_charts= weekly_global_charts.append(df)\n"
   ]
  },
  {
   "cell_type": "markdown",
   "id": "34a134f4-bc95-4109-8d0d-9c95fb950e56",
   "metadata": {},
   "source": [
    "In the code above, we compiled the results from all 13 our datasets into one called `weekly_global_charts`, and from this, we did an exploratory analysis. "
   ]
  },
  {
   "cell_type": "markdown",
   "id": "2e127148-7b42-4a2c-a269-0a3dd33b58d1",
   "metadata": {},
   "source": [
    "## Results"
   ]
  },
  {
   "cell_type": "markdown",
   "id": "64aab22a-45d1-4b8c-a268-7e0e1204b3bb",
   "metadata": {},
   "source": [
    "## Discussion"
   ]
  },
  {
   "cell_type": "code",
   "execution_count": null,
   "id": "316e7bef-89fd-4490-ac7e-bd845f4610ec",
   "metadata": {},
   "outputs": [],
   "source": []
  }
 ],
 "metadata": {
  "kernelspec": {
   "display_name": "Python 3 (ipykernel)",
   "language": "python",
   "name": "python3"
  },
  "language_info": {
   "codemirror_mode": {
    "name": "ipython",
    "version": 3
   },
   "file_extension": ".py",
   "mimetype": "text/x-python",
   "name": "python",
   "nbconvert_exporter": "python",
   "pygments_lexer": "ipython3",
   "version": "3.9.6"
  }
 },
 "nbformat": 4,
 "nbformat_minor": 5
}
